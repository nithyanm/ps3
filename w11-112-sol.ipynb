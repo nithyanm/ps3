{
 "cells": [
  {
   "cell_type": "markdown",
   "id": "b1001354",
   "metadata": {},
   "source": [
    "# POLSCI 3 Fall 2021\n",
    "\n",
    "## Week 11, Section 112"
   ]
  },
  {
   "cell_type": "markdown",
   "id": "d5dd20bc",
   "metadata": {},
   "source": [
    "For the first part of the section, we will be using the same campaign spending data from the Tuesday lecture."
   ]
  },
  {
   "cell_type": "code",
   "execution_count": 9,
   "id": "e752295f",
   "metadata": {
    "scrolled": false
   },
   "outputs": [
    {
     "data": {
      "text/html": [
       "<table>\n",
       "<thead><tr><th scope=col>state</th><th scope=col>district</th><th scope=col>name_dem_cand</th><th scope=col>name_rep_cand</th><th scope=col>dem_us_house_percent_2020</th><th scope=col>dem_us_house_percent_2018</th><th scope=col>dem_won_ushouse_2018</th><th scope=col>clinton_percent_2016</th><th scope=col>spending_dem_ushouse_2020</th><th scope=col>spending_rep_ushouse_2020</th></tr></thead>\n",
       "<tbody>\n",
       "\t<tr><td>AL                      </td><td>1                       </td><td>GARDNER, KIANI A        </td><td>CARL, JERRY LEE, JR     </td><td>35.53871                </td><td>36.77648                </td><td>0                       </td><td>34.93852                </td><td>0.11866185              </td><td>2.2325439               </td></tr>\n",
       "\t<tr><td>AL                      </td><td>2                       </td><td>HARVEY-HALL, PHYLLIS    </td><td>COLEMAN, JEFF           </td><td>34.68272                </td><td>38.42594                </td><td>0                       </td><td>33.70786                </td><td>0.05766116              </td><td>2.6159773               </td></tr>\n",
       "\t<tr><td>AL                      </td><td>3                       </td><td>WINFREY, ADIA           </td><td>ROGERS, MICHAEL         </td><td>32.45933                </td><td>36.21845                </td><td>0                       </td><td>33.09426                </td><td>0.04122109              </td><td>1.2283404               </td></tr>\n",
       "\t<tr><td>AL                      </td><td>4                       </td><td>NEIGHBORS, RICKY        </td><td>ADERHOLT, ROBERT B. REP.</td><td>17.68298                </td><td>20.12911                </td><td>0                       </td><td>17.79141                </td><td>0.04790858              </td><td>1.3521382               </td></tr>\n",
       "\t<tr><td>AL                      </td><td>5                       </td><td>JOFFRION, PETER S.      </td><td>BROOKS, MO              </td><td> 0.00000                </td><td>38.89471                </td><td>0                       </td><td>32.60417                </td><td>0.00310696              </td><td>0.2237067               </td></tr>\n",
       "\t<tr><td>AR                      </td><td>1                       </td><td>CAUSEY, CHAD            </td><td>CRAWFORD, ERIC ALAN RICK</td><td> 0.00000                </td><td>28.77438                </td><td>0                       </td><td>31.72269                </td><td>0.00060000              </td><td>1.0955175               </td></tr>\n",
       "</tbody>\n",
       "</table>\n"
      ],
      "text/latex": [
       "\\begin{tabular}{r|llllllllll}\n",
       " state & district & name\\_dem\\_cand & name\\_rep\\_cand & dem\\_us\\_house\\_percent\\_2020 & dem\\_us\\_house\\_percent\\_2018 & dem\\_won\\_ushouse\\_2018 & clinton\\_percent\\_2016 & spending\\_dem\\_ushouse\\_2020 & spending\\_rep\\_ushouse\\_2020\\\\\n",
       "\\hline\n",
       "\t AL                       & 1                        & GARDNER, KIANI A         & CARL, JERRY LEE, JR      & 35.53871                 & 36.77648                 & 0                        & 34.93852                 & 0.11866185               & 2.2325439               \\\\\n",
       "\t AL                       & 2                        & HARVEY-HALL, PHYLLIS     & COLEMAN, JEFF            & 34.68272                 & 38.42594                 & 0                        & 33.70786                 & 0.05766116               & 2.6159773               \\\\\n",
       "\t AL                       & 3                        & WINFREY, ADIA            & ROGERS, MICHAEL          & 32.45933                 & 36.21845                 & 0                        & 33.09426                 & 0.04122109               & 1.2283404               \\\\\n",
       "\t AL                       & 4                        & NEIGHBORS, RICKY         & ADERHOLT, ROBERT B. REP. & 17.68298                 & 20.12911                 & 0                        & 17.79141                 & 0.04790858               & 1.3521382               \\\\\n",
       "\t AL                       & 5                        & JOFFRION, PETER S.       & BROOKS, MO               &  0.00000                 & 38.89471                 & 0                        & 32.60417                 & 0.00310696               & 0.2237067               \\\\\n",
       "\t AR                       & 1                        & CAUSEY, CHAD             & CRAWFORD, ERIC ALAN RICK &  0.00000                 & 28.77438                 & 0                        & 31.72269                 & 0.00060000               & 1.0955175               \\\\\n",
       "\\end{tabular}\n"
      ],
      "text/markdown": [
       "\n",
       "| state | district | name_dem_cand | name_rep_cand | dem_us_house_percent_2020 | dem_us_house_percent_2018 | dem_won_ushouse_2018 | clinton_percent_2016 | spending_dem_ushouse_2020 | spending_rep_ushouse_2020 |\n",
       "|---|---|---|---|---|---|---|---|---|---|\n",
       "| AL                       | 1                        | GARDNER, KIANI A         | CARL, JERRY LEE, JR      | 35.53871                 | 36.77648                 | 0                        | 34.93852                 | 0.11866185               | 2.2325439                |\n",
       "| AL                       | 2                        | HARVEY-HALL, PHYLLIS     | COLEMAN, JEFF            | 34.68272                 | 38.42594                 | 0                        | 33.70786                 | 0.05766116               | 2.6159773                |\n",
       "| AL                       | 3                        | WINFREY, ADIA            | ROGERS, MICHAEL          | 32.45933                 | 36.21845                 | 0                        | 33.09426                 | 0.04122109               | 1.2283404                |\n",
       "| AL                       | 4                        | NEIGHBORS, RICKY         | ADERHOLT, ROBERT B. REP. | 17.68298                 | 20.12911                 | 0                        | 17.79141                 | 0.04790858               | 1.3521382                |\n",
       "| AL                       | 5                        | JOFFRION, PETER S.       | BROOKS, MO               |  0.00000                 | 38.89471                 | 0                        | 32.60417                 | 0.00310696               | 0.2237067                |\n",
       "| AR                       | 1                        | CAUSEY, CHAD             | CRAWFORD, ERIC ALAN RICK |  0.00000                 | 28.77438                 | 0                        | 31.72269                 | 0.00060000               | 1.0955175                |\n",
       "\n"
      ],
      "text/plain": [
       "  state district name_dem_cand        name_rep_cand           \n",
       "1 AL    1        GARDNER, KIANI A     CARL, JERRY LEE, JR     \n",
       "2 AL    2        HARVEY-HALL, PHYLLIS COLEMAN, JEFF           \n",
       "3 AL    3        WINFREY, ADIA        ROGERS, MICHAEL         \n",
       "4 AL    4        NEIGHBORS, RICKY     ADERHOLT, ROBERT B. REP.\n",
       "5 AL    5        JOFFRION, PETER S.   BROOKS, MO              \n",
       "6 AR    1        CAUSEY, CHAD         CRAWFORD, ERIC ALAN RICK\n",
       "  dem_us_house_percent_2020 dem_us_house_percent_2018 dem_won_ushouse_2018\n",
       "1 35.53871                  36.77648                  0                   \n",
       "2 34.68272                  38.42594                  0                   \n",
       "3 32.45933                  36.21845                  0                   \n",
       "4 17.68298                  20.12911                  0                   \n",
       "5  0.00000                  38.89471                  0                   \n",
       "6  0.00000                  28.77438                  0                   \n",
       "  clinton_percent_2016 spending_dem_ushouse_2020 spending_rep_ushouse_2020\n",
       "1 34.93852             0.11866185                2.2325439                \n",
       "2 33.70786             0.05766116                2.6159773                \n",
       "3 33.09426             0.04122109                1.2283404                \n",
       "4 17.79141             0.04790858                1.3521382                \n",
       "5 32.60417             0.00310696                0.2237067                \n",
       "6 31.72269             0.00060000                1.0955175                "
      ]
     },
     "metadata": {},
     "output_type": "display_data"
    }
   ],
   "source": [
    "library(ggplot2) # Allow us to make some graphs later\n",
    "\n",
    "data <- read.csv(\"ps3-house-election-spending.csv\")\n",
    "head(data)"
   ]
  },
  {
   "cell_type": "markdown",
   "id": "60fec234",
   "metadata": {},
   "source": [
    "Here is a quick rundown of what each column means:\n",
    "\n",
    "- `state`: State (e.g., for CA-13, \"CA\")\n",
    "- `district`: District number (e.g., for CA-13, 13)\n",
    "- `name_dem_cand`: Democrat candidate name in the 2020 US House elections\n",
    "- `name_rep_cand`: Republican candidate name in the 2020 US House elections\n",
    "- `dem_us_house_percent_2020`: Democrat candidate's vote share in 2020 election (percent)\n",
    "- `dem_us_house_percent_2018`: Democrat candidate's vote share in 2018 election (percent)\n",
    "- `dem_won_ushouse_2018`: A Democrat won the US House election in 2018, and so is running for re-election in 2020 (0 = lost, 1 = won)\n",
    "- `clinton_percent_2016`: Clinton vote share in 2016 in the district (percent)\n",
    "- `spending_dem_ushouse_2020`: Democratic US House candidate's spending in 2020, in millions of dollars \n",
    "- `spending_rep_ushouse_2020`: Republican US House candidate's spending in 2020, in millions of dollars "
   ]
  },
  {
   "cell_type": "markdown",
   "id": "d4813486",
   "metadata": {},
   "source": [
    "### Does campaign spending work?\n",
    "\n",
    "We'll use this data to see how multivariate regression can help us _try_ (not necessarily succeed) at reducing omitted variable bias when trying to understand the effects of campaign spending in US elections.\n",
    "\n",
    "To make things easy, let's begin by subsetting the data to Democratic districts (where Democrats won the house election in 2018):"
   ]
  },
  {
   "cell_type": "code",
   "execution_count": 10,
   "id": "1f15d1de",
   "metadata": {},
   "outputs": [],
   "source": [
    "democrats <- subset(data, dem_won_ushouse_2018 == 1)"
   ]
  },
  {
   "cell_type": "markdown",
   "id": "65ac8b61",
   "metadata": {},
   "source": [
    "### Quick check 1\n",
    "\n",
    "Controlling for how Democratic-leaning the district was in the 2016 Presidential election, _and_ how they performed in the last election, regress the Democratic vote share in 2020 against Democratic house spending in 2020"
   ]
  },
  {
   "cell_type": "code",
   "execution_count": 11,
   "id": "31be6cd8",
   "metadata": {},
   "outputs": [
    {
     "data": {
      "text/plain": [
       "\n",
       "Call:\n",
       "lm(formula = dem_us_house_percent_2020 ~ spending_dem_ushouse_2020 + \n",
       "    clinton_percent_2016 + dem_us_house_percent_2018, data = democrats)\n",
       "\n",
       "Residuals:\n",
       "    Min      1Q  Median      3Q     Max \n",
       "-31.997  -2.373   0.026   2.137  39.802 \n",
       "\n",
       "Coefficients:\n",
       "                          Estimate Std. Error t value Pr(>|t|)    \n",
       "(Intercept)                6.15659    3.22338   1.910   0.0575 .  \n",
       "spending_dem_ushouse_2020 -0.21580    0.18532  -1.164   0.2456    \n",
       "clinton_percent_2016       0.78916    0.07449  10.594   <2e-16 ***\n",
       "dem_us_house_percent_2018  0.10672    0.06561   1.627   0.1053    \n",
       "---\n",
       "Signif. codes:  0 '***' 0.001 '**' 0.01 '*' 0.05 '.' 0.1 ' ' 1\n",
       "\n",
       "Residual standard error: 8.059 on 207 degrees of freedom\n",
       "Multiple R-squared:  0.6707,\tAdjusted R-squared:  0.6659 \n",
       "F-statistic: 140.5 on 3 and 207 DF,  p-value: < 2.2e-16\n"
      ]
     },
     "metadata": {},
     "output_type": "display_data"
    }
   ],
   "source": [
    "summary(lm(dem_us_house_percent_2020 ~ spending_dem_ushouse_2020 +\n",
    "           clinton_percent_2016 + dem_us_house_percent_2018, democrats))"
   ]
  },
  {
   "cell_type": "markdown",
   "id": "ab866695",
   "metadata": {},
   "source": [
    "### Quick check 2\n",
    "\n",
    "Interpret the estimate next to `spending_dem_ushouse_2020`"
   ]
  },
  {
   "cell_type": "markdown",
   "id": "cba69ae1",
   "metadata": {},
   "source": [
    "**Solution:** holding the presidential vote in 2016 and Democratic house vote in 2018 constant, each additional million dollars spent in the congressional race is correlated with -0.216% lower Democratic vote share in 2020."
   ]
  },
  {
   "cell_type": "markdown",
   "id": "dd49a582",
   "metadata": {},
   "source": [
    "### Quick check 3\n",
    "\n",
    "Evaluate the following claim: 'including more control variables eliminates OVB'"
   ]
  },
  {
   "cell_type": "markdown",
   "id": "57490219",
   "metadata": {},
   "source": [
    "**Solution:** False. Including the right control variables reduces the OVB, but we can never be sure that all of the relevant control variables are included."
   ]
  },
  {
   "cell_type": "markdown",
   "id": "63ca66ce",
   "metadata": {},
   "source": [
    "Now, let's move to the second part of section - examining regressions from experiments. We will use the same experiment from the Thursday lecture. The data introduction part is reproduced below."
   ]
  },
  {
   "cell_type": "markdown",
   "id": "5d517642",
   "metadata": {},
   "source": [
    "### Data for part 2\n",
    "\n",
    "This dataset is from a pretty neat experiment that was conducted by some former graduate students at UC Berkeley (who once GSI'd for PS 3 several years ago!).\n",
    "\n",
    "This data set is the result of a large-scale field experiment conducted in 25 cities across Germany, during which 3,797 unknowing bystanders were exposed to brief social encounters with confederates who revealed their ideas regarding gender roles.\n",
    "\n",
    "There were a few aspects to the experiment. We'll cover only one of them in lecture today, and leave the other one for the in-class activity.\n",
    "\n",
    "From the authors:\n",
    "\n",
    "> Our intervention was set up to observe the behavior of unknowing experimental subjects (bystanders) who are exposed to a highly realistic and carefully choreographed sequence of social encounters in public spaces. The intervention followed four steps:\n",
    "> 1. First, a female confederate approaches a bench at a train station where other individuals are waiting for their train and draws their attention by asking them a question (“Do you know if I can I buy tickets on the train?”). \n",
    "> 2. Shortly thereafter, and in the presence of the bystanders, the confederate receives a phone call (from one of the other confederates who was not acting in the specific iteration), and audibly converses with the caller in German...regarding a member of her family (her sister). The conversation is scripted in a manner that reveals the confederate's position on the women's right to choose to pursue a career versus having to stay home to take care of the family. **Note from Professor Broockman: this is the experimental manipulation we will describe below.**\n",
    "> 3. At the end of the phone call, a bag that the confederate was holding seemingly tears, making her drop a number of lemons, which disperse on the train platform and the confederate appears to be in need of assistance to pick them up. \n",
    "> 4. In the final step, team members who were not a part of the intervention record whether each bystander helped the confederate retrieve her lemons. A collage of photographs that capture the key sequences of our experimental intervention are presented in Figure 1.\n",
    "> \n",
    "> ![](scene.jpg)\n",
    "> \n",
    "> _Figure 1: Unknowing bystanders watch and listen as the confederate takes a call and conducts a conversation with a friend (a), in the process revealing her attitudes toward the role of women in society (family and work). Following the phone call, the confederate drops her possessions (lemons), which disperse on the platform (b). We observe whether bystanders assist the confederate in collecting her possessions (c)._\n",
    "\n",
    "Here were the contents of the phone calls:\n",
    "\n",
    "> - In the regressive gender attitude condition, the confederate expresses disappointment with her sister, who has decided to get a job rather than stay at home and take care of her husband and kids. The confederate states that she believes her role as a woman is to stay at home and take care of her family.\n",
    "> - In the progressive attitude condition, the confederate expresses her approval of her sister’s decision to get a job rather than stay home and take care of her husband and kids. She states that she believes that women should not sacrifice their careers to stay at home and take care of their family.\n",
    "> - In the neutral control condition, the confederate has a conversation of roughly equal length about an innocuous matter unrelated to her attitudes regarding women and of no sociopolitical valence.\n",
    ">\n",
    "> The specific issue of women’s career advancement was chosen because it has been a crucial concern of the women’s rights movement in Germany; most—but not all—native women hold progressive views.\n",
    "\n",
    "The authors also randomized whether the women were wearing hijabs. We'll ignore this for now -- we'll look at that during the in-class activity.\n",
    "\n",
    "Let's take a look at the data:"
   ]
  },
  {
   "cell_type": "code",
   "execution_count": 12,
   "id": "38a99ad7",
   "metadata": {},
   "outputs": [
    {
     "data": {
      "text/html": [
       "<table>\n",
       "<thead><tr><th scope=col>anyhelp</th><th scope=col>genderatt</th><th scope=col>bystander</th><th scope=col>femprop</th></tr></thead>\n",
       "<tbody>\n",
       "\t<tr><td>1           </td><td>Progressive </td><td>3           </td><td>0.6666667   </td></tr>\n",
       "\t<tr><td>1           </td><td>Neutral     </td><td>2           </td><td>0.5000000   </td></tr>\n",
       "\t<tr><td>0           </td><td>Neutral     </td><td>2           </td><td>0.5000000   </td></tr>\n",
       "\t<tr><td>1           </td><td>Conservative</td><td>1           </td><td>1.0000000   </td></tr>\n",
       "\t<tr><td>1           </td><td>Progressive </td><td>3           </td><td>0.3333333   </td></tr>\n",
       "\t<tr><td>1           </td><td>Progressive </td><td>2           </td><td>1.0000000   </td></tr>\n",
       "</tbody>\n",
       "</table>\n"
      ],
      "text/latex": [
       "\\begin{tabular}{r|llll}\n",
       " anyhelp & genderatt & bystander & femprop\\\\\n",
       "\\hline\n",
       "\t 1            & Progressive  & 3            & 0.6666667   \\\\\n",
       "\t 1            & Neutral      & 2            & 0.5000000   \\\\\n",
       "\t 0            & Neutral      & 2            & 0.5000000   \\\\\n",
       "\t 1            & Conservative & 1            & 1.0000000   \\\\\n",
       "\t 1            & Progressive  & 3            & 0.3333333   \\\\\n",
       "\t 1            & Progressive  & 2            & 1.0000000   \\\\\n",
       "\\end{tabular}\n"
      ],
      "text/markdown": [
       "\n",
       "| anyhelp | genderatt | bystander | femprop |\n",
       "|---|---|---|---|\n",
       "| 1            | Progressive  | 3            | 0.6666667    |\n",
       "| 1            | Neutral      | 2            | 0.5000000    |\n",
       "| 0            | Neutral      | 2            | 0.5000000    |\n",
       "| 1            | Conservative | 1            | 1.0000000    |\n",
       "| 1            | Progressive  | 3            | 0.3333333    |\n",
       "| 1            | Progressive  | 2            | 1.0000000    |\n",
       "\n"
      ],
      "text/plain": [
       "  anyhelp genderatt    bystander femprop  \n",
       "1 1       Progressive  3         0.6666667\n",
       "2 1       Neutral      2         0.5000000\n",
       "3 0       Neutral      2         0.5000000\n",
       "4 1       Conservative 1         1.0000000\n",
       "5 1       Progressive  3         0.3333333\n",
       "6 1       Progressive  2         1.0000000"
      ]
     },
     "metadata": {},
     "output_type": "display_data"
    }
   ],
   "source": [
    "library(estimatr)\n",
    "\n",
    "data <- read.csv(\"ps3_phonecall_clean_lecture.csv\")\n",
    "head(data)"
   ]
  },
  {
   "cell_type": "markdown",
   "id": "de852f3e",
   "metadata": {},
   "source": [
    "### Quick check 4\n",
    "\n",
    "Run a regression of the outcome (`anyhelp`) against the treatment (`genderatt`)"
   ]
  },
  {
   "cell_type": "code",
   "execution_count": 13,
   "id": "a4419b5b",
   "metadata": {},
   "outputs": [
    {
     "data": {
      "text/plain": [
       "\n",
       "Call:\n",
       "lm(formula = anyhelp ~ genderatt, data = data)\n",
       "\n",
       "Residuals:\n",
       "    Min      1Q  Median      3Q     Max \n",
       "-0.7388 -0.7006  0.2612  0.2630  0.2994 \n",
       "\n",
       "Coefficients:\n",
       "                     Estimate Std. Error t value Pr(>|t|)    \n",
       "(Intercept)           0.70065    0.01791  39.124   <2e-16 ***\n",
       "genderattNeutral      0.03813    0.02287   1.667   0.0956 .  \n",
       "genderattProgressive  0.03637    0.02555   1.424   0.1547    \n",
       "---\n",
       "Signif. codes:  0 '***' 0.001 '**' 0.01 '*' 0.05 '.' 0.1 ' ' 1\n",
       "\n",
       "Residual standard error: 0.4452 on 2192 degrees of freedom\n",
       "Multiple R-squared:  0.001435,\tAdjusted R-squared:  0.0005238 \n",
       "F-statistic: 1.575 on 2 and 2192 DF,  p-value: 0.2073\n"
      ]
     },
     "metadata": {},
     "output_type": "display_data"
    }
   ],
   "source": [
    "# Type your code here\n",
    "summary(lm(anyhelp ~ genderatt, data))"
   ]
  },
  {
   "cell_type": "markdown",
   "id": "46633797",
   "metadata": {},
   "source": [
    "### Quick check 4\n",
    "Provide an interpretation of the `(Intercept)` term and `genderattNeutral` term."
   ]
  },
  {
   "cell_type": "markdown",
   "id": "501646c8",
   "metadata": {},
   "source": [
    "**Solution:** The intercept term shows the percentage of times when any of the bystanders offered help, under the regressive gender condition. The genderattNeutral term shows that when the gender attitude treatment condition is neutral, the probability of any bystanders helping increases by 3.8% relative to the regressive gender condition."
   ]
  },
  {
   "cell_type": "markdown",
   "id": "2c16ef6a",
   "metadata": {},
   "source": [
    "### Quick check 5\n",
    "Evaluate the following claim: 'The `genderattNeutral` term shows that when the gender attitude treatment condition being neutral causes a 3.8% increase in probability in any bystanders helping, relative to the regressive gender condition'"
   ]
  },
  {
   "cell_type": "markdown",
   "id": "c4fe75a3",
   "metadata": {},
   "source": [
    "**Solution:** True. Since the conditions are experimentally assigned, the regression coefficient represents the causal effect. \n",
    "\n",
    "Note: you would get the same effects using the `difference_in_means()` functions or just by taking differences in group means!"
   ]
  },
  {
   "cell_type": "markdown",
   "id": "2108afb7",
   "metadata": {},
   "source": [
    "### Quick check 6\n",
    "Evaluate the following claim: 'Including both randomized treatments and non-randomized covariates in a regression necessarily causes OVB'"
   ]
  },
  {
   "cell_type": "markdown",
   "id": "7a7ccfff",
   "metadata": {},
   "source": [
    "**Solution:** False. While including covariates that are caused / varied by the treatment may cause bias, including pre-treatment covariates may be helpful in reducing noise and statistical power"
   ]
  }
 ],
 "metadata": {
  "kernelspec": {
   "display_name": "R",
   "language": "R",
   "name": "ir"
  },
  "language_info": {
   "codemirror_mode": "r",
   "file_extension": ".r",
   "mimetype": "text/x-r-source",
   "name": "R",
   "pygments_lexer": "r",
   "version": "3.6.1"
  }
 },
 "nbformat": 4,
 "nbformat_minor": 5
}
